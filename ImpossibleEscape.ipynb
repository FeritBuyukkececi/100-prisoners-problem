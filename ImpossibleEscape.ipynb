{
 "cells": [
  {
   "cell_type": "markdown",
   "metadata": {},
   "source": [
    "## Rules of the game:\n",
    "- There are 100 prisoners in the prison\n",
    "- In a room with 100 boxes, each box has a slip with a number between 1 and 100\n",
    "- Each prisoner with a number between 1 and 100 goes into the room, opens a box and reads the slip. \n",
    "    - If the number on the slip is the prisoner's number, prisoner wins the round. Then all boxes are closed (but not shuffled!)\n",
    "    - If the number doesn't match, prisoner can open another box. Each prisoner can try 50 boxes.\n",
    "    - If the prisoner cannot find a match in 50 boxes, he/she fails the round.\n",
    "- If they all succeed, they can all leave; but if one fails, they all lose!\n",
    "\n",
    "Reference: Great video from Veritasium - https://www.youtube.com/watch?v=iSNsgj1OCLA"
   ]
  },
  {
   "cell_type": "code",
   "execution_count": 1,
   "metadata": {},
   "outputs": [],
   "source": [
    "import numpy as np\n",
    "import random as rn"
   ]
  },
  {
   "cell_type": "markdown",
   "metadata": {},
   "source": [
    "#### Naive strategy: Random search"
   ]
  },
  {
   "cell_type": "code",
   "execution_count": 2,
   "metadata": {},
   "outputs": [],
   "source": [
    "def random_search(boxes, ntrials, prisoner_id):\n",
    "    box_order=np.arange(len(boxes))\n",
    "    rn.shuffle(box_order) # create random box order for prisoner to follow during search\n",
    "    for t in np.arange(ntrials):\n",
    "        box_id=box_order[t]\n",
    "        slip_value=boxes[box_id]\n",
    "        if slip_value==prisoner_id: return True # this prisoner found his/her number!\n",
    "    else: return False # this prisoner failed in ntrials!\n",
    "    "
   ]
  },
  {
   "cell_type": "markdown",
   "metadata": {},
   "source": [
    "#### Smart strategy: Prisoner starts with the box of his/her number and reads the slip. If the number on slip does not match, he/she switches to the box of slip value"
   ]
  },
  {
   "cell_type": "code",
   "execution_count": 3,
   "metadata": {},
   "outputs": [],
   "source": [
    "def smart_search(boxes, ntrials, prisoner_id):\n",
    "    box_id=prisoner_id\n",
    "    for t in np.arange(ntrials):\n",
    "        slip_value=boxes[box_id]\n",
    "        if slip_value==prisoner_id: return True # this prisoner found his/her number!\n",
    "        box_id=slip_value \n",
    "    else: return False # this prisoner failed in ntrials!"
   ]
  },
  {
   "cell_type": "markdown",
   "metadata": {},
   "source": [
    "#### Game: Run of all prisoners and return False if any fails"
   ]
  },
  {
   "cell_type": "code",
   "execution_count": 4,
   "metadata": {},
   "outputs": [],
   "source": [
    "def run_game(nboxes, ntrials, search_method):\n",
    "    # create boxes with random numbers in them\n",
    "    boxes=np.arange(nboxes)\n",
    "    rn.shuffle(boxes)\n",
    "    \n",
    "    for p in np.arange(nboxes):\n",
    "        is_success=search_method(boxes=boxes, ntrials=ntrials, prisoner_id=p)\n",
    "        if not is_success: return False # if any prisoner fails, all of them fail\n",
    "    else: return True # all prisoners have succeeded!"
   ]
  },
  {
   "cell_type": "markdown",
   "metadata": {},
   "source": [
    "#### Conduct many runs over each strategies to compare success ratios "
   ]
  },
  {
   "cell_type": "code",
   "execution_count": 5,
   "metadata": {},
   "outputs": [
    {
     "name": "stdout",
     "output_type": "stream",
     "text": [
      "random_search has a success_ratio=0.0\n",
      "smart_search has a success_ratio=0.31289999999998186\n"
     ]
    }
   ],
   "source": [
    "nboxes=100\n",
    "ntrials=50\n",
    "nruns=10000\n",
    "for search_method in [random_search, smart_search]:\n",
    "    success_ratio=0\n",
    "    for n in np.arange(nruns):\n",
    "        result=run_game(nboxes=nboxes, ntrials=ntrials, search_method=search_method)\n",
    "        success_ratio+=result/nruns\n",
    "    print(f\"{search_method.__name__} has a {success_ratio=}\")"
   ]
  },
  {
   "cell_type": "markdown",
   "metadata": {},
   "source": [
    "#### Observations:\n",
    "- With random strategy, each prisoner has a 50% chance, therefore probability that all of them succeeds is (0.5)^100 which is an extremely small number\n",
    "- With smart strategy, we observe ~31% success ratio!"
   ]
  },
  {
   "cell_type": "code",
   "execution_count": 6,
   "metadata": {},
   "outputs": [
    {
     "data": {
      "text/html": [
       "<img src=\"http://www.reactiongifs.com/r/but-why.gif\"/>"
      ],
      "text/plain": [
       "<IPython.core.display.Image object>"
      ]
     },
     "execution_count": 6,
     "metadata": {},
     "output_type": "execute_result"
    }
   ],
   "source": [
    "from IPython.display import Image\n",
    "Image(url='http://www.reactiongifs.com/r/but-why.gif')"
   ]
  },
  {
   "cell_type": "markdown",
   "metadata": {},
   "source": [
    "## Explanation"
   ]
  },
  {
   "cell_type": "markdown",
   "metadata": {},
   "source": [
    "One specific rule of the game gives the greatest clue: All prisoners have to succeed or they all fail. \n",
    "\n",
    "Veritasium explains this in great detail, but allow me as well: Let's say a prisoner 8 enters the room and applies the 'smart' strategy as follows:\n",
    "1. Opens the 8th box and reads 52 on the slip\n",
    "2. Opens the 52nd box and reads 78 on the slip\n",
    "3. Opens the 78th box and reads 8 on the slip: The prisoner just succeeded!\n",
    "\n",
    "So prisoner 8 opened boxes 8,52,78 respectively. Now, imagine the case: If prisoner 78 enters the room and follows the same strategy, he/she would open boxes 78,8,52. Same goes for prisoner 52 as he/she would follow 52,78,8 as well. That means boxes 8, 52 and 78 form a loop and since this loop is shorter than 50 elements, these 3 prisoners succeed with this strategy. If a prisoner, say prisoner 34 is in a loop > 50 elements, he/she will fail and make everyone else fail as well.\n",
    "\n",
    "In other words, if boxes form loops where one of them have more than 50 elements, the smart strategy will fail. The probability of forming a loop of 100 elements is 1/100 (100!/100)/100!, a loop of 99 elements is 1/99 and so on. Therefore the proability of boxes forming a loop with greater than 50 elements is 1/50 + 1/51 + ... + 1/99 and 1/100."
   ]
  },
  {
   "cell_type": "code",
   "execution_count": 7,
   "metadata": {},
   "outputs": [
    {
     "name": "stdout",
     "output_type": "stream",
     "text": [
      "prob_success=0.3118278206898051, prob_fail=0.6881721793101949\n"
     ]
    }
   ],
   "source": [
    "prob_fail=sum([1/x for x in np.arange(50,100)+1])\n",
    "prob_success=1-prob_fail\n",
    "print(f'{prob_success=}, {prob_fail=}')"
   ]
  },
  {
   "cell_type": "markdown",
   "metadata": {},
   "source": [
    "### What if we let prisoners try 60 times?"
   ]
  },
  {
   "cell_type": "code",
   "execution_count": 8,
   "metadata": {},
   "outputs": [
    {
     "name": "stdout",
     "output_type": "stream",
     "text": [
      "prob_success=0.4924928953121174, prob_fail=0.5075071046878826\n"
     ]
    }
   ],
   "source": [
    "prob_fail=sum([1/x for x in np.arange(60,100)+1])\n",
    "prob_success=1-prob_fail\n",
    "print(f'{prob_success=}, {prob_fail=}')"
   ]
  },
  {
   "cell_type": "code",
   "execution_count": 9,
   "metadata": {},
   "outputs": [
    {
     "name": "stdout",
     "output_type": "stream",
     "text": [
      "random_search has a success_ratio=0.0\n",
      "smart_search has a success_ratio=0.48449999999996296\n"
     ]
    }
   ],
   "source": [
    "nboxes=100\n",
    "ntrials=60\n",
    "nruns=10000\n",
    "for search_method in [random_search, smart_search]:\n",
    "    success_ratio=0\n",
    "    for n in np.arange(nruns):\n",
    "        result=run_game(nboxes=nboxes, ntrials=ntrials, search_method=search_method)\n",
    "        success_ratio+=result/nruns\n",
    "    print(f\"{search_method.__name__} has a {success_ratio=}\")"
   ]
  },
  {
   "cell_type": "code",
   "execution_count": null,
   "metadata": {},
   "outputs": [],
   "source": []
  }
 ],
 "metadata": {
  "kernelspec": {
   "display_name": "Python 3 (ipykernel)",
   "language": "python",
   "name": "python3"
  },
  "language_info": {
   "codemirror_mode": {
    "name": "ipython",
    "version": 3
   },
   "file_extension": ".py",
   "mimetype": "text/x-python",
   "name": "python",
   "nbconvert_exporter": "python",
   "pygments_lexer": "ipython3",
   "version": "3.11.1"
  }
 },
 "nbformat": 4,
 "nbformat_minor": 2
}
